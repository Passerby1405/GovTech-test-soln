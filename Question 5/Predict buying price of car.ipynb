{
 "cells": [
  {
   "cell_type": "code",
   "execution_count": 1,
   "metadata": {},
   "outputs": [],
   "source": [
    "import pandas as pd\n",
    "import numpy as np\n",
    "import seaborn as sns\n",
    "import matplotlib.pyplot as plt"
   ]
  },
  {
   "cell_type": "markdown",
   "metadata": {},
   "source": [
    "Predict buying price given \n",
    "\n",
    "    Maintenance = High \n",
    "    Number of doors = 4 \n",
    "    Lug Boot Size = Big \n",
    "    Safety = High \n",
    "    Class Value = Good"
   ]
  },
  {
   "cell_type": "code",
   "execution_count": 2,
   "metadata": {},
   "outputs": [],
   "source": [
    "#import data from file\n",
    "car_data = pd.read_csv('car.data', delimiter=\",\")"
   ]
  },
  {
   "cell_type": "code",
   "execution_count": 3,
   "metadata": {},
   "outputs": [
    {
     "data": {
      "text/html": [
       "<div>\n",
       "<style scoped>\n",
       "    .dataframe tbody tr th:only-of-type {\n",
       "        vertical-align: middle;\n",
       "    }\n",
       "\n",
       "    .dataframe tbody tr th {\n",
       "        vertical-align: top;\n",
       "    }\n",
       "\n",
       "    .dataframe thead th {\n",
       "        text-align: right;\n",
       "    }\n",
       "</style>\n",
       "<table border=\"1\" class=\"dataframe\">\n",
       "  <thead>\n",
       "    <tr style=\"text-align: right;\">\n",
       "      <th></th>\n",
       "      <th>vhigh</th>\n",
       "      <th>vhigh.1</th>\n",
       "      <th>2</th>\n",
       "      <th>2.1</th>\n",
       "      <th>small</th>\n",
       "      <th>low</th>\n",
       "      <th>unacc</th>\n",
       "    </tr>\n",
       "  </thead>\n",
       "  <tbody>\n",
       "    <tr>\n",
       "      <th>0</th>\n",
       "      <td>vhigh</td>\n",
       "      <td>vhigh</td>\n",
       "      <td>2</td>\n",
       "      <td>2</td>\n",
       "      <td>small</td>\n",
       "      <td>med</td>\n",
       "      <td>unacc</td>\n",
       "    </tr>\n",
       "    <tr>\n",
       "      <th>1</th>\n",
       "      <td>vhigh</td>\n",
       "      <td>vhigh</td>\n",
       "      <td>2</td>\n",
       "      <td>2</td>\n",
       "      <td>small</td>\n",
       "      <td>high</td>\n",
       "      <td>unacc</td>\n",
       "    </tr>\n",
       "    <tr>\n",
       "      <th>2</th>\n",
       "      <td>vhigh</td>\n",
       "      <td>vhigh</td>\n",
       "      <td>2</td>\n",
       "      <td>2</td>\n",
       "      <td>med</td>\n",
       "      <td>low</td>\n",
       "      <td>unacc</td>\n",
       "    </tr>\n",
       "    <tr>\n",
       "      <th>3</th>\n",
       "      <td>vhigh</td>\n",
       "      <td>vhigh</td>\n",
       "      <td>2</td>\n",
       "      <td>2</td>\n",
       "      <td>med</td>\n",
       "      <td>med</td>\n",
       "      <td>unacc</td>\n",
       "    </tr>\n",
       "    <tr>\n",
       "      <th>4</th>\n",
       "      <td>vhigh</td>\n",
       "      <td>vhigh</td>\n",
       "      <td>2</td>\n",
       "      <td>2</td>\n",
       "      <td>med</td>\n",
       "      <td>high</td>\n",
       "      <td>unacc</td>\n",
       "    </tr>\n",
       "    <tr>\n",
       "      <th>5</th>\n",
       "      <td>vhigh</td>\n",
       "      <td>vhigh</td>\n",
       "      <td>2</td>\n",
       "      <td>2</td>\n",
       "      <td>big</td>\n",
       "      <td>low</td>\n",
       "      <td>unacc</td>\n",
       "    </tr>\n",
       "    <tr>\n",
       "      <th>6</th>\n",
       "      <td>vhigh</td>\n",
       "      <td>vhigh</td>\n",
       "      <td>2</td>\n",
       "      <td>2</td>\n",
       "      <td>big</td>\n",
       "      <td>med</td>\n",
       "      <td>unacc</td>\n",
       "    </tr>\n",
       "    <tr>\n",
       "      <th>7</th>\n",
       "      <td>vhigh</td>\n",
       "      <td>vhigh</td>\n",
       "      <td>2</td>\n",
       "      <td>2</td>\n",
       "      <td>big</td>\n",
       "      <td>high</td>\n",
       "      <td>unacc</td>\n",
       "    </tr>\n",
       "    <tr>\n",
       "      <th>8</th>\n",
       "      <td>vhigh</td>\n",
       "      <td>vhigh</td>\n",
       "      <td>2</td>\n",
       "      <td>4</td>\n",
       "      <td>small</td>\n",
       "      <td>low</td>\n",
       "      <td>unacc</td>\n",
       "    </tr>\n",
       "    <tr>\n",
       "      <th>9</th>\n",
       "      <td>vhigh</td>\n",
       "      <td>vhigh</td>\n",
       "      <td>2</td>\n",
       "      <td>4</td>\n",
       "      <td>small</td>\n",
       "      <td>med</td>\n",
       "      <td>unacc</td>\n",
       "    </tr>\n",
       "  </tbody>\n",
       "</table>\n",
       "</div>"
      ],
      "text/plain": [
       "   vhigh vhigh.1  2 2.1  small   low  unacc\n",
       "0  vhigh   vhigh  2   2  small   med  unacc\n",
       "1  vhigh   vhigh  2   2  small  high  unacc\n",
       "2  vhigh   vhigh  2   2    med   low  unacc\n",
       "3  vhigh   vhigh  2   2    med   med  unacc\n",
       "4  vhigh   vhigh  2   2    med  high  unacc\n",
       "5  vhigh   vhigh  2   2    big   low  unacc\n",
       "6  vhigh   vhigh  2   2    big   med  unacc\n",
       "7  vhigh   vhigh  2   2    big  high  unacc\n",
       "8  vhigh   vhigh  2   4  small   low  unacc\n",
       "9  vhigh   vhigh  2   4  small   med  unacc"
      ]
     },
     "execution_count": 3,
     "metadata": {},
     "output_type": "execute_result"
    }
   ],
   "source": [
    "#take a look at data\n",
    "car_data.head(10)"
   ]
  },
  {
   "cell_type": "markdown",
   "metadata": {},
   "source": [
    "For this task, we will be trying to predict the buying value\n",
    "\n",
    "    buying:   vhigh, high, med, low.\n",
    "\n",
    "given the following attributes \n",
    "\n",
    "    maint:    vhigh, high, med, low.\n",
    "    doors:    2, 3, 4, 5more.\n",
    "    persons:  2, 4, more.\n",
    "    lug_boot: small, med, big.\n",
    "    safety:   low, med, high.\n",
    "    class:    unacc, acc, good, vgood"
   ]
  },
  {
   "cell_type": "code",
   "execution_count": 4,
   "metadata": {},
   "outputs": [],
   "source": [
    "#start by changing column names \n",
    "car_data.columns = ['buying', 'maint', 'doors', 'persons', 'lug_boot', 'safety', 'class']"
   ]
  },
  {
   "cell_type": "code",
   "execution_count": 5,
   "metadata": {},
   "outputs": [
    {
     "name": "stdout",
     "output_type": "stream",
     "text": [
      "<class 'pandas.core.frame.DataFrame'>\n",
      "RangeIndex: 1727 entries, 0 to 1726\n",
      "Data columns (total 7 columns):\n",
      " #   Column    Non-Null Count  Dtype \n",
      "---  ------    --------------  ----- \n",
      " 0   buying    1727 non-null   object\n",
      " 1   maint     1727 non-null   object\n",
      " 2   doors     1727 non-null   object\n",
      " 3   persons   1727 non-null   object\n",
      " 4   lug_boot  1727 non-null   object\n",
      " 5   safety    1727 non-null   object\n",
      " 6   class     1727 non-null   object\n",
      "dtypes: object(7)\n",
      "memory usage: 94.6+ KB\n"
     ]
    }
   ],
   "source": [
    "car_data.info()"
   ]
  },
  {
   "cell_type": "code",
   "execution_count": 6,
   "metadata": {},
   "outputs": [
    {
     "data": {
      "text/html": [
       "<div>\n",
       "<style scoped>\n",
       "    .dataframe tbody tr th:only-of-type {\n",
       "        vertical-align: middle;\n",
       "    }\n",
       "\n",
       "    .dataframe tbody tr th {\n",
       "        vertical-align: top;\n",
       "    }\n",
       "\n",
       "    .dataframe thead th {\n",
       "        text-align: right;\n",
       "    }\n",
       "</style>\n",
       "<table border=\"1\" class=\"dataframe\">\n",
       "  <thead>\n",
       "    <tr style=\"text-align: right;\">\n",
       "      <th></th>\n",
       "      <th>buying</th>\n",
       "      <th>maint</th>\n",
       "      <th>doors</th>\n",
       "      <th>persons</th>\n",
       "      <th>lug_boot</th>\n",
       "      <th>safety</th>\n",
       "      <th>class</th>\n",
       "    </tr>\n",
       "  </thead>\n",
       "  <tbody>\n",
       "    <tr>\n",
       "      <th>count</th>\n",
       "      <td>1727</td>\n",
       "      <td>1727</td>\n",
       "      <td>1727</td>\n",
       "      <td>1727</td>\n",
       "      <td>1727</td>\n",
       "      <td>1727</td>\n",
       "      <td>1727</td>\n",
       "    </tr>\n",
       "    <tr>\n",
       "      <th>unique</th>\n",
       "      <td>4</td>\n",
       "      <td>4</td>\n",
       "      <td>4</td>\n",
       "      <td>3</td>\n",
       "      <td>3</td>\n",
       "      <td>3</td>\n",
       "      <td>4</td>\n",
       "    </tr>\n",
       "    <tr>\n",
       "      <th>top</th>\n",
       "      <td>med</td>\n",
       "      <td>med</td>\n",
       "      <td>5more</td>\n",
       "      <td>4</td>\n",
       "      <td>med</td>\n",
       "      <td>med</td>\n",
       "      <td>unacc</td>\n",
       "    </tr>\n",
       "    <tr>\n",
       "      <th>freq</th>\n",
       "      <td>432</td>\n",
       "      <td>432</td>\n",
       "      <td>432</td>\n",
       "      <td>576</td>\n",
       "      <td>576</td>\n",
       "      <td>576</td>\n",
       "      <td>1209</td>\n",
       "    </tr>\n",
       "  </tbody>\n",
       "</table>\n",
       "</div>"
      ],
      "text/plain": [
       "       buying maint  doors persons lug_boot safety  class\n",
       "count    1727  1727   1727    1727     1727   1727   1727\n",
       "unique      4     4      4       3        3      3      4\n",
       "top       med   med  5more       4      med    med  unacc\n",
       "freq      432   432    432     576      576    576   1209"
      ]
     },
     "execution_count": 6,
     "metadata": {},
     "output_type": "execute_result"
    }
   ],
   "source": [
    "car_data.describe()"
   ]
  },
  {
   "cell_type": "code",
   "execution_count": 7,
   "metadata": {},
   "outputs": [
    {
     "data": {
      "text/plain": [
       "<AxesSubplot:>"
      ]
     },
     "execution_count": 7,
     "metadata": {},
     "output_type": "execute_result"
    },
    {
     "data": {
      "image/png": "[encoded data removed]",
      "text/plain": [
       "<Figure size 432x288 with 1 Axes>"
      ]
     },
     "metadata": {
      "needs_background": "light"
     },
     "output_type": "display_data"
    }
   ],
   "source": [
    "#look for nan values in our dataset\n",
    "sns.heatmap(car_data.isnull(), yticklabels = False, cbar = False, cmap = 'Blues')"
   ]
  },
  {
   "cell_type": "markdown",
   "metadata": {},
   "source": [
    "We shall start by assigning the values of buying as such\n",
    "\n",
    "    vhigh   : 4\n",
    "    high    : 3\n",
    "    med     : 2\n",
    "    low     : 1"
   ]
  },
  {
   "cell_type": "code",
   "execution_count": 8,
   "metadata": {},
   "outputs": [
    {
     "data": {
      "text/html": [
       "<div>\n",
       "<style scoped>\n",
       "    .dataframe tbody tr th:only-of-type {\n",
       "        vertical-align: middle;\n",
       "    }\n",
       "\n",
       "    .dataframe tbody tr th {\n",
       "        vertical-align: top;\n",
       "    }\n",
       "\n",
       "    .dataframe thead th {\n",
       "        text-align: right;\n",
       "    }\n",
       "</style>\n",
       "<table border=\"1\" class=\"dataframe\">\n",
       "  <thead>\n",
       "    <tr style=\"text-align: right;\">\n",
       "      <th></th>\n",
       "      <th>buying</th>\n",
       "      <th>maint</th>\n",
       "      <th>doors</th>\n",
       "      <th>persons</th>\n",
       "      <th>lug_boot</th>\n",
       "      <th>safety</th>\n",
       "      <th>class</th>\n",
       "    </tr>\n",
       "  </thead>\n",
       "  <tbody>\n",
       "    <tr>\n",
       "      <th>0</th>\n",
       "      <td>4</td>\n",
       "      <td>vhigh</td>\n",
       "      <td>2</td>\n",
       "      <td>2</td>\n",
       "      <td>small</td>\n",
       "      <td>med</td>\n",
       "      <td>unacc</td>\n",
       "    </tr>\n",
       "    <tr>\n",
       "      <th>1</th>\n",
       "      <td>4</td>\n",
       "      <td>vhigh</td>\n",
       "      <td>2</td>\n",
       "      <td>2</td>\n",
       "      <td>small</td>\n",
       "      <td>high</td>\n",
       "      <td>unacc</td>\n",
       "    </tr>\n",
       "    <tr>\n",
       "      <th>2</th>\n",
       "      <td>4</td>\n",
       "      <td>vhigh</td>\n",
       "      <td>2</td>\n",
       "      <td>2</td>\n",
       "      <td>med</td>\n",
       "      <td>low</td>\n",
       "      <td>unacc</td>\n",
       "    </tr>\n",
       "    <tr>\n",
       "      <th>3</th>\n",
       "      <td>4</td>\n",
       "      <td>vhigh</td>\n",
       "      <td>2</td>\n",
       "      <td>2</td>\n",
       "      <td>med</td>\n",
       "      <td>med</td>\n",
       "      <td>unacc</td>\n",
       "    </tr>\n",
       "    <tr>\n",
       "      <th>4</th>\n",
       "      <td>4</td>\n",
       "      <td>vhigh</td>\n",
       "      <td>2</td>\n",
       "      <td>2</td>\n",
       "      <td>med</td>\n",
       "      <td>high</td>\n",
       "      <td>unacc</td>\n",
       "    </tr>\n",
       "  </tbody>\n",
       "</table>\n",
       "</div>"
      ],
      "text/plain": [
       "   buying  maint doors persons lug_boot safety  class\n",
       "0       4  vhigh     2       2    small    med  unacc\n",
       "1       4  vhigh     2       2    small   high  unacc\n",
       "2       4  vhigh     2       2      med    low  unacc\n",
       "3       4  vhigh     2       2      med    med  unacc\n",
       "4       4  vhigh     2       2      med   high  unacc"
      ]
     },
     "execution_count": 8,
     "metadata": {},
     "output_type": "execute_result"
    }
   ],
   "source": [
    "car_data['buying'] = car_data['buying'].replace(to_replace=['vhigh', 'high', 'med', 'low'], value=[4, 3, 2, 1])\n",
    "car_data.head()"
   ]
  },
  {
   "cell_type": "code",
   "execution_count": 9,
   "metadata": {},
   "outputs": [],
   "source": [
    "#Split data into X and y, at the same time, the column persons is no longer needed\n",
    "y = car_data['buying']\n",
    "X = car_data[['maint', 'doors', 'lug_boot', 'safety', 'class']]"
   ]
  },
  {
   "cell_type": "code",
   "execution_count": 10,
   "metadata": {},
   "outputs": [
    {
     "data": {
      "text/html": [
       "<div>\n",
       "<style scoped>\n",
       "    .dataframe tbody tr th:only-of-type {\n",
       "        vertical-align: middle;\n",
       "    }\n",
       "\n",
       "    .dataframe tbody tr th {\n",
       "        vertical-align: top;\n",
       "    }\n",
       "\n",
       "    .dataframe thead th {\n",
       "        text-align: right;\n",
       "    }\n",
       "</style>\n",
       "<table border=\"1\" class=\"dataframe\">\n",
       "  <thead>\n",
       "    <tr style=\"text-align: right;\">\n",
       "      <th></th>\n",
       "      <th>maint_low</th>\n",
       "      <th>maint_med</th>\n",
       "      <th>maint_vhigh</th>\n",
       "      <th>doors_3</th>\n",
       "      <th>doors_4</th>\n",
       "      <th>doors_5more</th>\n",
       "      <th>lug_boot_med</th>\n",
       "      <th>lug_boot_small</th>\n",
       "      <th>safety_low</th>\n",
       "      <th>safety_med</th>\n",
       "      <th>class_good</th>\n",
       "      <th>class_unacc</th>\n",
       "      <th>class_vgood</th>\n",
       "    </tr>\n",
       "  </thead>\n",
       "  <tbody>\n",
       "    <tr>\n",
       "      <th>0</th>\n",
       "      <td>0</td>\n",
       "      <td>0</td>\n",
       "      <td>1</td>\n",
       "      <td>0</td>\n",
       "      <td>0</td>\n",
       "      <td>0</td>\n",
       "      <td>0</td>\n",
       "      <td>1</td>\n",
       "      <td>0</td>\n",
       "      <td>1</td>\n",
       "      <td>0</td>\n",
       "      <td>1</td>\n",
       "      <td>0</td>\n",
       "    </tr>\n",
       "    <tr>\n",
       "      <th>1</th>\n",
       "      <td>0</td>\n",
       "      <td>0</td>\n",
       "      <td>1</td>\n",
       "      <td>0</td>\n",
       "      <td>0</td>\n",
       "      <td>0</td>\n",
       "      <td>0</td>\n",
       "      <td>1</td>\n",
       "      <td>0</td>\n",
       "      <td>0</td>\n",
       "      <td>0</td>\n",
       "      <td>1</td>\n",
       "      <td>0</td>\n",
       "    </tr>\n",
       "    <tr>\n",
       "      <th>2</th>\n",
       "      <td>0</td>\n",
       "      <td>0</td>\n",
       "      <td>1</td>\n",
       "      <td>0</td>\n",
       "      <td>0</td>\n",
       "      <td>0</td>\n",
       "      <td>1</td>\n",
       "      <td>0</td>\n",
       "      <td>1</td>\n",
       "      <td>0</td>\n",
       "      <td>0</td>\n",
       "      <td>1</td>\n",
       "      <td>0</td>\n",
       "    </tr>\n",
       "    <tr>\n",
       "      <th>3</th>\n",
       "      <td>0</td>\n",
       "      <td>0</td>\n",
       "      <td>1</td>\n",
       "      <td>0</td>\n",
       "      <td>0</td>\n",
       "      <td>0</td>\n",
       "      <td>1</td>\n",
       "      <td>0</td>\n",
       "      <td>0</td>\n",
       "      <td>1</td>\n",
       "      <td>0</td>\n",
       "      <td>1</td>\n",
       "      <td>0</td>\n",
       "    </tr>\n",
       "    <tr>\n",
       "      <th>4</th>\n",
       "      <td>0</td>\n",
       "      <td>0</td>\n",
       "      <td>1</td>\n",
       "      <td>0</td>\n",
       "      <td>0</td>\n",
       "      <td>0</td>\n",
       "      <td>1</td>\n",
       "      <td>0</td>\n",
       "      <td>0</td>\n",
       "      <td>0</td>\n",
       "      <td>0</td>\n",
       "      <td>1</td>\n",
       "      <td>0</td>\n",
       "    </tr>\n",
       "    <tr>\n",
       "      <th>5</th>\n",
       "      <td>0</td>\n",
       "      <td>0</td>\n",
       "      <td>1</td>\n",
       "      <td>0</td>\n",
       "      <td>0</td>\n",
       "      <td>0</td>\n",
       "      <td>0</td>\n",
       "      <td>0</td>\n",
       "      <td>1</td>\n",
       "      <td>0</td>\n",
       "      <td>0</td>\n",
       "      <td>1</td>\n",
       "      <td>0</td>\n",
       "    </tr>\n",
       "    <tr>\n",
       "      <th>6</th>\n",
       "      <td>0</td>\n",
       "      <td>0</td>\n",
       "      <td>1</td>\n",
       "      <td>0</td>\n",
       "      <td>0</td>\n",
       "      <td>0</td>\n",
       "      <td>0</td>\n",
       "      <td>0</td>\n",
       "      <td>0</td>\n",
       "      <td>1</td>\n",
       "      <td>0</td>\n",
       "      <td>1</td>\n",
       "      <td>0</td>\n",
       "    </tr>\n",
       "    <tr>\n",
       "      <th>7</th>\n",
       "      <td>0</td>\n",
       "      <td>0</td>\n",
       "      <td>1</td>\n",
       "      <td>0</td>\n",
       "      <td>0</td>\n",
       "      <td>0</td>\n",
       "      <td>0</td>\n",
       "      <td>0</td>\n",
       "      <td>0</td>\n",
       "      <td>0</td>\n",
       "      <td>0</td>\n",
       "      <td>1</td>\n",
       "      <td>0</td>\n",
       "    </tr>\n",
       "    <tr>\n",
       "      <th>8</th>\n",
       "      <td>0</td>\n",
       "      <td>0</td>\n",
       "      <td>1</td>\n",
       "      <td>0</td>\n",
       "      <td>0</td>\n",
       "      <td>0</td>\n",
       "      <td>0</td>\n",
       "      <td>1</td>\n",
       "      <td>1</td>\n",
       "      <td>0</td>\n",
       "      <td>0</td>\n",
       "      <td>1</td>\n",
       "      <td>0</td>\n",
       "    </tr>\n",
       "    <tr>\n",
       "      <th>9</th>\n",
       "      <td>0</td>\n",
       "      <td>0</td>\n",
       "      <td>1</td>\n",
       "      <td>0</td>\n",
       "      <td>0</td>\n",
       "      <td>0</td>\n",
       "      <td>0</td>\n",
       "      <td>1</td>\n",
       "      <td>0</td>\n",
       "      <td>1</td>\n",
       "      <td>0</td>\n",
       "      <td>1</td>\n",
       "      <td>0</td>\n",
       "    </tr>\n",
       "  </tbody>\n",
       "</table>\n",
       "</div>"
      ],
      "text/plain": [
       "   maint_low  maint_med  maint_vhigh  doors_3  doors_4  doors_5more  \\\n",
       "0          0          0            1        0        0            0   \n",
       "1          0          0            1        0        0            0   \n",
       "2          0          0            1        0        0            0   \n",
       "3          0          0            1        0        0            0   \n",
       "4          0          0            1        0        0            0   \n",
       "5          0          0            1        0        0            0   \n",
       "6          0          0            1        0        0            0   \n",
       "7          0          0            1        0        0            0   \n",
       "8          0          0            1        0        0            0   \n",
       "9          0          0            1        0        0            0   \n",
       "\n",
       "   lug_boot_med  lug_boot_small  safety_low  safety_med  class_good  \\\n",
       "0             0               1           0           1           0   \n",
       "1             0               1           0           0           0   \n",
       "2             1               0           1           0           0   \n",
       "3             1               0           0           1           0   \n",
       "4             1               0           0           0           0   \n",
       "5             0               0           1           0           0   \n",
       "6             0               0           0           1           0   \n",
       "7             0               0           0           0           0   \n",
       "8             0               1           1           0           0   \n",
       "9             0               1           0           1           0   \n",
       "\n",
       "   class_unacc  class_vgood  \n",
       "0            1            0  \n",
       "1            1            0  \n",
       "2            1            0  \n",
       "3            1            0  \n",
       "4            1            0  \n",
       "5            1            0  \n",
       "6            1            0  \n",
       "7            1            0  \n",
       "8            1            0  \n",
       "9            1            0  "
      ]
     },
     "execution_count": 10,
     "metadata": {},
     "output_type": "execute_result"
    }
   ],
   "source": [
    "#as all the columns consist of catagorical variables, we can convert them into dummy/indicator variables\n",
    "X = pd.get_dummies(X, drop_first=True)\n",
    "X.head(10)"
   ]
  },
  {
   "cell_type": "code",
   "execution_count": 11,
   "metadata": {},
   "outputs": [
    {
     "data": {
      "text/plain": [
       "<AxesSubplot:>"
      ]
     },
     "execution_count": 11,
     "metadata": {},
     "output_type": "execute_result"
    },
    {
     "data": {
      "image/png": "[encoded data removed]",
      "text/plain": [
       "<Figure size 1440x1440 with 2 Axes>"
      ]
     },
     "metadata": {
      "needs_background": "light"
     },
     "output_type": "display_data"
    }
   ],
   "source": [
    "#looking at the correlation between the various features and classifier\n",
    "new_df = pd.concat([y, X], axis = 1)\n",
    "correlations = new_df.corr()\n",
    "f, ax = plt.subplots(figsize = (20, 20))\n",
    "sns.heatmap(correlations, annot = True)"
   ]
  },
  {
   "cell_type": "markdown",
   "metadata": {},
   "source": [
    "With such low correlation, it might be hard to get a decent accuracy for our model. We shall try several different models, starting with random forest"
   ]
  },
  {
   "cell_type": "code",
   "execution_count": 12,
   "metadata": {},
   "outputs": [],
   "source": [
    "#split dataset into training set and test set\n",
    "from sklearn.model_selection import train_test_split\n",
    "\n",
    "X_train, X_test, y_train, y_test = train_test_split(X, y, test_size=0.3, random_state = 32)"
   ]
  },
  {
   "cell_type": "code",
   "execution_count": 13,
   "metadata": {},
   "outputs": [],
   "source": [
    "#import and run a random forest classifier\n",
    "from sklearn.ensemble import RandomForestClassifier\n",
    "\n",
    "clf=RandomForestClassifier(n_estimators=500)\n",
    "clf.fit(X_train,y_train)\n",
    "y_pred=clf.predict(X_test)"
   ]
  },
  {
   "cell_type": "code",
   "execution_count": 14,
   "metadata": {},
   "outputs": [
    {
     "name": "stdout",
     "output_type": "stream",
     "text": [
      "Accuracy: 0.16570327552986513\n"
     ]
    }
   ],
   "source": [
    "from sklearn import metrics\n",
    "print(\"Accuracy:\",metrics.accuracy_score(y_test, y_pred))"
   ]
  },
  {
   "cell_type": "code",
   "execution_count": 15,
   "metadata": {},
   "outputs": [
    {
     "data": {
      "text/plain": [
       "array([[25, 35, 30, 32],\n",
       "       [47, 12, 32, 37],\n",
       "       [22, 30, 17, 63],\n",
       "       [19, 26, 60, 32]], dtype=int64)"
      ]
     },
     "execution_count": 15,
     "metadata": {},
     "output_type": "execute_result"
    }
   ],
   "source": [
    "from sklearn.metrics import confusion_matrix\n",
    "confusion_matrix(y_test, y_pred)"
   ]
  },
  {
   "cell_type": "code",
   "execution_count": 16,
   "metadata": {},
   "outputs": [
    {
     "name": "stdout",
     "output_type": "stream",
     "text": [
      "              precision    recall  f1-score   support\n",
      "\n",
      "           1       0.22      0.20      0.21       122\n",
      "           2       0.12      0.09      0.10       128\n",
      "           3       0.12      0.13      0.13       132\n",
      "           4       0.20      0.23      0.21       137\n",
      "\n",
      "    accuracy                           0.17       519\n",
      "   macro avg       0.16      0.17      0.16       519\n",
      "weighted avg       0.16      0.17      0.16       519\n",
      "\n"
     ]
    }
   ],
   "source": [
    "from sklearn.metrics import classification_report\n",
    "print(classification_report(y_test, y_pred))"
   ]
  },
  {
   "cell_type": "markdown",
   "metadata": {},
   "source": [
    "We had a very low accuracy with random forest(around 15%), we shall try with another model, Linear SVC"
   ]
  },
  {
   "cell_type": "code",
   "execution_count": 17,
   "metadata": {},
   "outputs": [
    {
     "name": "stdout",
     "output_type": "stream",
     "text": [
      "Accuracy: 0.31021194605009633\n"
     ]
    }
   ],
   "source": [
    "from sklearn.svm import LinearSVC\n",
    "\n",
    "lsvc = LinearSVC(verbose=0)\n",
    "\n",
    "lsvc.fit(X_train, y_train)\n",
    "y_pred=lsvc.predict(X_test)\n",
    "\n",
    "print(\"Accuracy:\",metrics.accuracy_score(y_test, y_pred))"
   ]
  },
  {
   "cell_type": "code",
   "execution_count": 18,
   "metadata": {},
   "outputs": [
    {
     "data": {
      "text/plain": [
       "array([[40, 23, 10, 49],\n",
       "       [43, 25, 11, 49],\n",
       "       [15, 32, 19, 66],\n",
       "       [17, 22, 21, 77]], dtype=int64)"
      ]
     },
     "execution_count": 18,
     "metadata": {},
     "output_type": "execute_result"
    }
   ],
   "source": [
    "confusion_matrix(y_test, y_pred)"
   ]
  },
  {
   "cell_type": "code",
   "execution_count": 19,
   "metadata": {},
   "outputs": [
    {
     "name": "stdout",
     "output_type": "stream",
     "text": [
      "              precision    recall  f1-score   support\n",
      "\n",
      "           1       0.35      0.33      0.34       122\n",
      "           2       0.25      0.20      0.22       128\n",
      "           3       0.31      0.14      0.20       132\n",
      "           4       0.32      0.56      0.41       137\n",
      "\n",
      "    accuracy                           0.31       519\n",
      "   macro avg       0.31      0.31      0.29       519\n",
      "weighted avg       0.31      0.31      0.29       519\n",
      "\n"
     ]
    }
   ],
   "source": [
    "print(classification_report(y_test, y_pred))"
   ]
  },
  {
   "cell_type": "markdown",
   "metadata": {},
   "source": [
    "The Linear SVM model performed much better, almost two times as good at around 30% accuracy. We proceed to see if we can get a better accuracy when we use an ANN model"
   ]
  },
  {
   "cell_type": "code",
   "execution_count": 20,
   "metadata": {},
   "outputs": [],
   "source": [
    "import tensorflow as tf\n",
    "import keras\n",
    "from keras.models import Sequential\n",
    "from keras.layers import Dense"
   ]
  },
  {
   "cell_type": "markdown",
   "metadata": {},
   "source": [
    "We shall build an ANN with (13 + 1) / 2 = 7 nodes in the hidden layers"
   ]
  },
  {
   "cell_type": "code",
   "execution_count": 21,
   "metadata": {},
   "outputs": [
    {
     "name": "stdout",
     "output_type": "stream",
     "text": [
      "Epoch 1/100\n",
      "121/121 [==============================] - 0s 608us/step - loss: 0.1491 - accuracy: 0.2644\n",
      "Epoch 2/100\n",
      "121/121 [==============================] - 0s 600us/step - loss: -7.9303 - accuracy: 0.2469\n",
      "Epoch 3/100\n",
      "121/121 [==============================] - 0s 618us/step - loss: -79.3250 - accuracy: 0.2531\n",
      "Epoch 4/100\n",
      "121/121 [==============================] - 0s 633us/step - loss: -389.9419 - accuracy: 0.2661\n",
      "Epoch 5/100\n",
      "121/121 [==============================] - 0s 617us/step - loss: -1264.5037 - accuracy: 0.2784\n",
      "Epoch 6/100\n",
      "121/121 [==============================] - 0s 592us/step - loss: -3023.6959 - accuracy: 0.2869\n",
      "Epoch 7/100\n",
      "121/121 [==============================] - 0s 625us/step - loss: -6336.8891 - accuracy: 0.2773\n",
      "Epoch 8/100\n",
      "121/121 [==============================] - 0s 592us/step - loss: -12056.3070 - accuracy: 0.2398\n",
      "Epoch 9/100\n",
      "121/121 [==============================] - 0s 602us/step - loss: -19593.9617 - accuracy: 0.2508\n",
      "Epoch 10/100\n",
      "121/121 [==============================] - 0s 583us/step - loss: -30267.4665 - accuracy: 0.2463\n",
      "Epoch 11/100\n",
      "121/121 [==============================] - 0s 592us/step - loss: -45535.3972 - accuracy: 0.2396\n",
      "Epoch 12/100\n",
      "121/121 [==============================] - 0s 592us/step - loss: -61703.4048 - accuracy: 0.2540\n",
      "Epoch 13/100\n",
      "121/121 [==============================] - 0s 575us/step - loss: -85040.6343 - accuracy: 0.2758\n",
      "Epoch 14/100\n",
      "121/121 [==============================] - 0s 592us/step - loss: -113901.1441 - accuracy: 0.2652\n",
      "Epoch 15/100\n",
      "121/121 [==============================] - 0s 592us/step - loss: -144563.6165 - accuracy: 0.2643\n",
      "Epoch 16/100\n",
      "121/121 [==============================] - 0s 611us/step - loss: -182199.9306 - accuracy: 0.2789\n",
      "Epoch 17/100\n",
      "121/121 [==============================] - 0s 592us/step - loss: -238784.9410 - accuracy: 0.2480\n",
      "Epoch 18/100\n",
      "121/121 [==============================] - 0s 592us/step - loss: -279219.0904 - accuracy: 0.2621\n",
      "Epoch 19/100\n",
      "121/121 [==============================] - 0s 583us/step - loss: -339759.9475 - accuracy: 0.2715\n",
      "Epoch 20/100\n",
      "121/121 [==============================] - 0s 592us/step - loss: -411459.3217 - accuracy: 0.2626\n",
      "Epoch 21/100\n",
      "121/121 [==============================] - 0s 592us/step - loss: -510646.8809 - accuracy: 0.2647\n",
      "Epoch 22/100\n",
      "121/121 [==============================] - 0s 583us/step - loss: -586951.4416 - accuracy: 0.2655\n",
      "Epoch 23/100\n",
      "121/121 [==============================] - 0s 596us/step - loss: -674711.5912 - accuracy: 0.2572\n",
      "Epoch 24/100\n",
      "121/121 [==============================] - 0s 583us/step - loss: -776158.1368 - accuracy: 0.2656\n",
      "Epoch 25/100\n",
      "121/121 [==============================] - 0s 600us/step - loss: -940385.3555 - accuracy: 0.2445\n",
      "Epoch 26/100\n",
      "121/121 [==============================] - 0s 584us/step - loss: -1006245.2520 - accuracy: 0.2786\n",
      "Epoch 27/100\n",
      "121/121 [==============================] - 0s 608us/step - loss: -1127386.4713 - accuracy: 0.2858\n",
      "Epoch 28/100\n",
      "121/121 [==============================] - 0s 583us/step - loss: -1339806.1014 - accuracy: 0.2453\n",
      "Epoch 29/100\n",
      "121/121 [==============================] - 0s 583us/step - loss: -1557121.8002 - accuracy: 0.2400\n",
      "Epoch 30/100\n",
      "121/121 [==============================] - 0s 605us/step - loss: -1758079.2459 - accuracy: 0.2417\n",
      "Epoch 31/100\n",
      "121/121 [==============================] - 0s 608us/step - loss: -1837537.3668 - accuracy: 0.2604\n",
      "Epoch 32/100\n",
      "121/121 [==============================] - 0s 667us/step - loss: -2127028.4037 - accuracy: 0.2497\n",
      "Epoch 33/100\n",
      "121/121 [==============================] - 0s 625us/step - loss: -2334545.1926 - accuracy: 0.2511\n",
      "Epoch 34/100\n",
      "121/121 [==============================] - 0s 608us/step - loss: -2504622.2059 - accuracy: 0.2630\n",
      "Epoch 35/100\n",
      "121/121 [==============================] - 0s 650us/step - loss: -2829480.0656 - accuracy: 0.2604\n",
      "Epoch 36/100\n",
      "121/121 [==============================] - 0s 617us/step - loss: -3099632.9037 - accuracy: 0.2613\n",
      "Epoch 37/100\n",
      "121/121 [==============================] - 0s 631us/step - loss: -3418687.0123 - accuracy: 0.2431\n",
      "Epoch 38/100\n",
      "121/121 [==============================] - 0s 575us/step - loss: -3683619.4447 - accuracy: 0.2587\n",
      "Epoch 39/100\n",
      "121/121 [==============================] - 0s 600us/step - loss: -4074371.2787 - accuracy: 0.2474\n",
      "Epoch 40/100\n",
      "121/121 [==============================] - 0s 592us/step - loss: -4409216.2254 - accuracy: 0.2523\n",
      "Epoch 41/100\n",
      "121/121 [==============================] - 0s 575us/step - loss: -4712447.2131 - accuracy: 0.2454\n",
      "Epoch 42/100\n",
      "121/121 [==============================] - 0s 592us/step - loss: -5224134.2418 - accuracy: 0.2466\n",
      "Epoch 43/100\n",
      "121/121 [==============================] - 0s 600us/step - loss: -5424012.7869 - accuracy: 0.2725\n",
      "Epoch 44/100\n",
      "121/121 [==============================] - 0s 604us/step - loss: -5882967.8893 - accuracy: 0.2619\n",
      "Epoch 45/100\n",
      "121/121 [==============================] - 0s 583us/step - loss: -6335174.0738 - accuracy: 0.2536\n",
      "Epoch 46/100\n",
      "121/121 [==============================] - 0s 600us/step - loss: -6901609.2254 - accuracy: 0.2462\n",
      "Epoch 47/100\n",
      "121/121 [==============================] - 0s 583us/step - loss: -7297042.4713 - accuracy: 0.2707\n",
      "Epoch 48/100\n",
      "121/121 [==============================] - 0s 608us/step - loss: -8058912.9631 - accuracy: 0.2496\n",
      "Epoch 49/100\n",
      "121/121 [==============================] - 0s 592us/step - loss: -8021449.7951 - accuracy: 0.2525\n",
      "Epoch 50/100\n",
      "121/121 [==============================] - 0s 611us/step - loss: -9339179.4918 - accuracy: 0.2419\n",
      "Epoch 51/100\n",
      "121/121 [==============================] - 0s 592us/step - loss: -9645898.0082 - accuracy: 0.2415\n",
      "Epoch 52/100\n",
      "121/121 [==============================] - 0s 600us/step - loss: -10098458.4508 - accuracy: 0.2732\n",
      "Epoch 53/100\n",
      "121/121 [==============================] - 0s 596us/step - loss: -10945546.7213 - accuracy: 0.2447\n",
      "Epoch 54/100\n",
      "121/121 [==============================] - 0s 592us/step - loss: -11500469.0738 - accuracy: 0.2486\n",
      "Epoch 55/100\n",
      "121/121 [==============================] - 0s 583us/step - loss: -12301600.1967 - accuracy: 0.2358\n",
      "Epoch 56/100\n",
      "121/121 [==============================] - 0s 567us/step - loss: -12212525.8115 - accuracy: 0.2834\n",
      "Epoch 57/100\n",
      "121/121 [==============================] - 0s 572us/step - loss: -13695766.0902 - accuracy: 0.2433\n",
      "Epoch 58/100\n",
      "121/121 [==============================] - 0s 575us/step - loss: -14031313.8648 - accuracy: 0.2654\n",
      "Epoch 59/100\n",
      "121/121 [==============================] - 0s 567us/step - loss: -14839614.7541 - accuracy: 0.2653\n",
      "Epoch 60/100\n",
      "121/121 [==============================] - 0s 583us/step - loss: -15293912.9098 - accuracy: 0.2747\n",
      "Epoch 61/100\n",
      "121/121 [==============================] - 0s 567us/step - loss: -16910523.2295 - accuracy: 0.2516\n",
      "Epoch 62/100\n",
      "121/121 [==============================] - 0s 583us/step - loss: -18415769.6066 - accuracy: 0.2320\n",
      "Epoch 63/100\n",
      "121/121 [==============================] - 0s 583us/step - loss: -18487946.4426 - accuracy: 0.2559\n",
      "Epoch 64/100\n",
      "121/121 [==============================] - 0s 580us/step - loss: -19689034.2459 - accuracy: 0.2480\n",
      "Epoch 65/100\n",
      "121/121 [==============================] - 0s 575us/step - loss: -20276416.1148 - accuracy: 0.2558\n",
      "Epoch 66/100\n",
      "121/121 [==============================] - 0s 592us/step - loss: -21308494.2623 - accuracy: 0.2353\n",
      "Epoch 67/100\n",
      "121/121 [==============================] - 0s 567us/step - loss: -22879398.6066 - accuracy: 0.2442\n",
      "Epoch 68/100\n",
      "121/121 [==============================] - 0s 583us/step - loss: -22999626.3770 - accuracy: 0.2662\n",
      "Epoch 69/100\n",
      "121/121 [==============================] - 0s 617us/step - loss: -23695857.2459 - accuracy: 0.2497\n",
      "Epoch 70/100\n",
      "121/121 [==============================] - 0s 692us/step - loss: -25676026.2787 - accuracy: 0.2738\n",
      "Epoch 71/100\n",
      "121/121 [==============================] - 0s 596us/step - loss: -27257388.0656 - accuracy: 0.2426\n",
      "Epoch 72/100\n",
      "121/121 [==============================] - 0s 567us/step - loss: -28488548.4262 - accuracy: 0.2512\n",
      "Epoch 73/100\n",
      "121/121 [==============================] - 0s 592us/step - loss: -28819182.2295 - accuracy: 0.2604\n",
      "Epoch 74/100\n",
      "121/121 [==============================] - 0s 675us/step - loss: -30079340.9672 - accuracy: 0.2681\n",
      "Epoch 75/100\n"
     ]
    },
    {
     "name": "stdout",
     "output_type": "stream",
     "text": [
      "121/121 [==============================] - 0s 583us/step - loss: -31766161.8197 - accuracy: 0.2562\n",
      "Epoch 76/100\n",
      "121/121 [==============================] - 0s 583us/step - loss: -33885633.4180 - accuracy: 0.2337\n",
      "Epoch 77/100\n",
      "121/121 [==============================] - 0s 575us/step - loss: -35405690.8689 - accuracy: 0.2541\n",
      "Epoch 78/100\n",
      "121/121 [==============================] - 0s 580us/step - loss: -36090854.6557 - accuracy: 0.2433\n",
      "Epoch 79/100\n",
      "121/121 [==============================] - 0s 592us/step - loss: -38038706.8033 - accuracy: 0.2388\n",
      "Epoch 80/100\n",
      "121/121 [==============================] - 0s 592us/step - loss: -37898961.1475 - accuracy: 0.2726\n",
      "Epoch 81/100\n",
      "121/121 [==============================] - 0s 567us/step - loss: -41328844.4918 - accuracy: 0.2479\n",
      "Epoch 82/100\n",
      "121/121 [==============================] - 0s 558us/step - loss: -42968200.0656 - accuracy: 0.2394\n",
      "Epoch 83/100\n",
      "121/121 [==============================] - 0s 575us/step - loss: -43721949.5738 - accuracy: 0.2607\n",
      "Epoch 84/100\n",
      "121/121 [==============================] - 0s 583us/step - loss: -45219028.2951 - accuracy: 0.2570\n",
      "Epoch 85/100\n",
      "121/121 [==============================] - 0s 580us/step - loss: -47950846.1639 - accuracy: 0.2633\n",
      "Epoch 86/100\n",
      "121/121 [==============================] - 0s 575us/step - loss: -48641411.2787 - accuracy: 0.2626\n",
      "Epoch 87/100\n",
      "121/121 [==============================] - 0s 575us/step - loss: -50552003.1475 - accuracy: 0.2578\n",
      "Epoch 88/100\n",
      "121/121 [==============================] - 0s 575us/step - loss: -52062641.5082 - accuracy: 0.2732\n",
      "Epoch 89/100\n",
      "121/121 [==============================] - 0s 567us/step - loss: -56834440.5246 - accuracy: 0.2431\n",
      "Epoch 90/100\n",
      "121/121 [==============================] - 0s 583us/step - loss: -57378751.1475 - accuracy: 0.2586\n",
      "Epoch 91/100\n",
      "121/121 [==============================] - 0s 575us/step - loss: -58062122.9180 - accuracy: 0.2619\n",
      "Epoch 92/100\n",
      "121/121 [==============================] - 0s 576us/step - loss: -58928939.9672 - accuracy: 0.2688\n",
      "Epoch 93/100\n",
      "121/121 [==============================] - 0s 575us/step - loss: -61563043.7705 - accuracy: 0.2727\n",
      "Epoch 94/100\n",
      "121/121 [==============================] - 0s 575us/step - loss: -67192242.8525 - accuracy: 0.2414\n",
      "Epoch 95/100\n",
      "121/121 [==============================] - 0s 575us/step - loss: -68665789.7377 - accuracy: 0.2516\n",
      "Epoch 96/100\n",
      "121/121 [==============================] - 0s 567us/step - loss: -69531412.3279 - accuracy: 0.2534\n",
      "Epoch 97/100\n",
      "121/121 [==============================] - 0s 608us/step - loss: -72229804.9508 - accuracy: 0.2678\n",
      "Epoch 98/100\n",
      "121/121 [==============================] - 0s 575us/step - loss: -76033674.7541 - accuracy: 0.2465\n",
      "Epoch 99/100\n",
      "121/121 [==============================] - 0s 580us/step - loss: -77234062.1639 - accuracy: 0.2511\n",
      "Epoch 100/100\n",
      "121/121 [==============================] - 0s 567us/step - loss: -79224271.8689 - accuracy: 0.2577\n"
     ]
    },
    {
     "data": {
      "text/plain": [
       "<tensorflow.python.keras.callbacks.History at 0x150da0dcc40>"
      ]
     },
     "execution_count": 21,
     "metadata": {},
     "output_type": "execute_result"
    }
   ],
   "source": [
    "classifier = Sequential()\n",
    "classifier.add(Dense(units = 7, kernel_initializer='glorot_uniform', activation = 'relu', input_dim = 13))\n",
    "classifier.add(Dense(units = 7, kernel_initializer='glorot_uniform', activation = 'relu'))\n",
    "classifier.add(Dense(units = 7, kernel_initializer='glorot_uniform', activation = 'relu'))\n",
    "classifier.add(Dense(units = 1, kernel_initializer='glorot_uniform', activation = 'softmax'))\n",
    "\n",
    "classifier.compile(optimizer = 'adam', loss = 'binary_crossentropy', metrics = ['accuracy'])\n",
    "classifier.fit(X_train, y_train, batch_size = 10, epochs = 100)"
   ]
  },
  {
   "cell_type": "code",
   "execution_count": 22,
   "metadata": {},
   "outputs": [
    {
     "name": "stdout",
     "output_type": "stream",
     "text": [
      "Accuracy: 0.2350674373795761\n"
     ]
    }
   ],
   "source": [
    "y_pred=classifier.predict(X_test)\n",
    "\n",
    "print(\"Accuracy:\",metrics.accuracy_score(y_test, y_pred))"
   ]
  },
  {
   "cell_type": "code",
   "execution_count": 23,
   "metadata": {},
   "outputs": [
    {
     "data": {
      "text/plain": [
       "array([[122,   0,   0,   0],\n",
       "       [128,   0,   0,   0],\n",
       "       [132,   0,   0,   0],\n",
       "       [137,   0,   0,   0]], dtype=int64)"
      ]
     },
     "execution_count": 23,
     "metadata": {},
     "output_type": "execute_result"
    }
   ],
   "source": [
    "confusion_matrix(y_test, y_pred)"
   ]
  },
  {
   "cell_type": "code",
   "execution_count": 24,
   "metadata": {},
   "outputs": [
    {
     "name": "stdout",
     "output_type": "stream",
     "text": [
      "              precision    recall  f1-score   support\n",
      "\n",
      "           1       0.24      1.00      0.38       122\n",
      "           2       0.00      0.00      0.00       128\n",
      "           3       0.00      0.00      0.00       132\n",
      "           4       0.00      0.00      0.00       137\n",
      "\n",
      "    accuracy                           0.24       519\n",
      "   macro avg       0.06      0.25      0.10       519\n",
      "weighted avg       0.06      0.24      0.09       519\n",
      "\n"
     ]
    },
    {
     "name": "stderr",
     "output_type": "stream",
     "text": [
      "C:\\Users\\chenj\\anaconda3\\lib\\site-packages\\sklearn\\metrics\\_classification.py:1221: UndefinedMetricWarning: Precision and F-score are ill-defined and being set to 0.0 in labels with no predicted samples. Use `zero_division` parameter to control this behavior.\n",
      "  _warn_prf(average, modifier, msg_start, len(result))\n"
     ]
    }
   ],
   "source": [
    "print(classification_report(y_test, y_pred))"
   ]
  },
  {
   "cell_type": "markdown",
   "metadata": {},
   "source": [
    "It appears that ANN is a poor model for this data, it gives the same classification to each and every entry"
   ]
  },
  {
   "cell_type": "markdown",
   "metadata": {},
   "source": [
    "We shall use our Linear SVM model for our prediction for the following features: \n",
    "    \n",
    "    Maintenance = High \n",
    "    Number of doors = 4 \n",
    "    Lug Boot Size = Big \n",
    "    Safety = High \n",
    "    Class Value = Good\n",
    "    \n",
    "To make it as accurate as possible, we shall retrain our linear SVM model using the full dataset"
   ]
  },
  {
   "cell_type": "code",
   "execution_count": 25,
   "metadata": {},
   "outputs": [
    {
     "data": {
      "text/html": [
       "<div>\n",
       "<style scoped>\n",
       "    .dataframe tbody tr th:only-of-type {\n",
       "        vertical-align: middle;\n",
       "    }\n",
       "\n",
       "    .dataframe tbody tr th {\n",
       "        vertical-align: top;\n",
       "    }\n",
       "\n",
       "    .dataframe thead th {\n",
       "        text-align: right;\n",
       "    }\n",
       "</style>\n",
       "<table border=\"1\" class=\"dataframe\">\n",
       "  <thead>\n",
       "    <tr style=\"text-align: right;\">\n",
       "      <th></th>\n",
       "      <th>0</th>\n",
       "      <th>1</th>\n",
       "      <th>2</th>\n",
       "      <th>3</th>\n",
       "      <th>4</th>\n",
       "      <th>5</th>\n",
       "      <th>6</th>\n",
       "      <th>7</th>\n",
       "      <th>8</th>\n",
       "      <th>9</th>\n",
       "      <th>10</th>\n",
       "      <th>11</th>\n",
       "      <th>12</th>\n",
       "    </tr>\n",
       "  </thead>\n",
       "  <tbody>\n",
       "    <tr>\n",
       "      <th>0</th>\n",
       "      <td>0</td>\n",
       "      <td>0</td>\n",
       "      <td>0</td>\n",
       "      <td>0</td>\n",
       "      <td>1</td>\n",
       "      <td>0</td>\n",
       "      <td>0</td>\n",
       "      <td>0</td>\n",
       "      <td>0</td>\n",
       "      <td>0</td>\n",
       "      <td>1</td>\n",
       "      <td>0</td>\n",
       "      <td>0</td>\n",
       "    </tr>\n",
       "  </tbody>\n",
       "</table>\n",
       "</div>"
      ],
      "text/plain": [
       "   0   1   2   3   4   5   6   7   8   9   10  11  12\n",
       "0   0   0   0   0   1   0   0   0   0   0   1   0   0"
      ]
     },
     "execution_count": 25,
     "metadata": {},
     "output_type": "execute_result"
    }
   ],
   "source": [
    "X1 = pd.DataFrame([0, 0, 0, 0, 1, 0, 0, 0, 0, 0, 1, 0, 0])\n",
    "X1 = X1.T\n",
    "X1"
   ]
  },
  {
   "cell_type": "code",
   "execution_count": 26,
   "metadata": {},
   "outputs": [
    {
     "name": "stdout",
     "output_type": "stream",
     "text": [
      "[1]\n"
     ]
    }
   ],
   "source": [
    "lsvc_2 = LinearSVC(verbose=0)\n",
    "lsvc_2.fit(X, y)\n",
    "print(lsvc_2.predict(X1))"
   ]
  },
  {
   "cell_type": "markdown",
   "metadata": {},
   "source": [
    "From our model, we predict that this is a car with a low buying value"
   ]
  },
  {
   "cell_type": "code",
   "execution_count": null,
   "metadata": {},
   "outputs": [],
   "source": []
  }
 ],
 "metadata": {
  "kernelspec": {
   "display_name": "Python 3",
   "language": "python",
   "name": "python3"
  },
  "language_info": {
   "codemirror_mode": {
    "name": "ipython",
    "version": 3
   },
   "file_extension": ".py",
   "mimetype": "text/x-python",
   "name": "python",
   "nbconvert_exporter": "python",
   "pygments_lexer": "ipython3",
   "version": "3.8.5"
  }
 },
 "nbformat": 4,
 "nbformat_minor": 4
}
